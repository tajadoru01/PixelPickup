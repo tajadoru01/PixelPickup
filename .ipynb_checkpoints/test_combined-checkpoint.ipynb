{
 "cells": [
  {
   "cell_type": "markdown",
   "metadata": {},
   "source": [
    "**User input categories**\n",
    "* Product\n",
    "* Return reason\n",
    "* Brand\n",
    "* Timeline\n",
    "* Claimed item condition"
   ]
  },
  {
   "cell_type": "code",
   "execution_count": 2,
   "metadata": {},
   "outputs": [],
   "source": [
    "# For this demonstration, I will go ahead and make up answers for each of the user input categories to show proof-of-concept\n",
    "\n",
    "product  = \"topwear\"\n",
    "return_reason = \"defective\"\n",
    "brand = \"uniqlo\"\n",
    "timeline = \"within 30 days\"\n",
    "item_condition = \"gently used\""
   ]
  },
  {
   "cell_type": "markdown",
   "metadata": {},
   "source": [
    "Allow the user to upload multiple images. Prompt engineer Gemini to return 1 of 3 final categories: Return to store, donate, recycle"
   ]
  },
  {
   "cell_type": "code",
   "execution_count": 3,
   "metadata": {},
   "outputs": [
    {
     "data": {
      "application/vnd.jupyter.widget-view+json": {
       "model_id": "e0fbe6c17c814a57b3e77ac4350c6b34",
       "version_major": 2,
       "version_minor": 0
      },
      "text/plain": [
       "FileUpload(value=(), accept='image/*', description='Upload', multiple=True)"
      ]
     },
     "metadata": {},
     "output_type": "display_data"
    }
   ],
   "source": [
    "from IPython.display import display\n",
    "from ipywidgets import FileUpload\n",
    "from PIL import Image\n",
    "import io\n",
    "\n",
    "upload_widget = FileUpload(accept='image/*', multiple=True)\n",
    "\n",
    "display(upload_widget)\n",
    "\n",
    "def handle_upload(change):\n",
    "    for filename, fileinfo in upload_widget.value.items():\n",
    "        image_data = fileinfo['content']\n",
    "        image = Image.open(io.BytesIO(image_data))\n",
    "        display(image)\n",
    "        image.save(f'uploaded_{filename}')  \n",
    "\n",
    "upload_widget.observe(handle_upload, names='value')"
   ]
  },
  {
   "cell_type": "code",
   "execution_count": null,
   "metadata": {},
   "outputs": [],
   "source": [
    "from google import genai\n",
    "from google.genai import types\n",
    "import os\n",
    "from dotenv import load_dotenv\n",
    "\n",
    "load_dotenv()\n",
    "gemini_key = os.getenv(\"GEMINI_API_KEY\")\n",
    "\n",
    "\n"
   ]
  }
 ],
 "metadata": {
  "kernelspec": {
   "display_name": "aihackathon_2",
   "language": "python",
   "name": "python3"
  },
  "language_info": {
   "codemirror_mode": {
    "name": "ipython",
    "version": 3
   },
   "file_extension": ".py",
   "mimetype": "text/x-python",
   "name": "python",
   "nbconvert_exporter": "python",
   "pygments_lexer": "ipython3",
   "version": "3.9.21"
  }
 },
 "nbformat": 4,
 "nbformat_minor": 2
}
