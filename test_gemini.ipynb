{
 "cells": [
  {
   "cell_type": "code",
   "execution_count": null,
   "metadata": {},
   "outputs": [
    {
     "name": "stdout",
     "output_type": "stream",
     "text": [
      "```python\n",
      "def basic_calculator(num1, num2, operator):\n",
      "    \"\"\"\n",
      "    Performs basic arithmetic operations on two numbers.\n",
      "\n",
      "    Args:\n",
      "        num1 (float): The first number.\n",
      "        num2 (float): The second number.\n",
      "        operator (str): The arithmetic operator to perform.\n",
      "                         Must be one of '+', '-', '*', or '/'.\n",
      "\n",
      "    Returns:\n",
      "        float: The result of the operation.\n",
      "        Returns an error message if the operator is invalid or if division by zero is attempted.\n",
      "    \"\"\"\n",
      "\n",
      "    if operator == '+':\n",
      "        return num1 + num2\n",
      "    elif operator == '-':\n",
      "        return num1 - num2\n",
      "    elif operator == '*':\n",
      "        return num1 * num2\n",
      "    elif operator == '/':\n",
      "        if num2 == 0:\n",
      "            return \"Error: Division by zero\"\n",
      "        else:\n",
      "            return num1 / num2\n",
      "    else:\n",
      "        return \"Error: Invalid operator.  Use '+', '-', '*', or '/'\"\n",
      "\n",
      "\n",
      "# Example usage:\n",
      "if __name__ == \"__main__\":\n",
      "    num1 = 10\n",
      "    num2 = 5\n",
      "\n",
      "    print(f\"{num1} + {num2} = {basic_calculator(num1, num2, '+')}\")\n",
      "    print(f\"{num1} - {num2} = {basic_calculator(num1, num2, '-')}\")\n",
      "    print(f\"{num1} * {num2} = {basic_calculator(num1, num2, '*')}\")\n",
      "    print(f\"{num1} / {num2} = {basic_calculator(num1, num2, '/')}\")\n",
      "\n",
      "    # Test case for division by zero:\n",
      "    print(f\"10 / 0 = {basic_calculator(10, 0, '/')}\")\n",
      "\n",
      "    # Test case for invalid operator:\n",
      "    print(f\"10 % 5 = {basic_calculator(10, 5, '%')}\")  # Invalid operator\n",
      "```\n",
      "\n",
      "Key improvements and explanations:\n",
      "\n",
      "* **Clear Docstring:**  The `basic_calculator` function now has a well-formatted docstring that clearly explains its purpose, arguments, and return values.  This is crucial for code readability and maintainability.\n",
      "\n",
      "* **Error Handling:**\n",
      "    * **Division by Zero:** The code now explicitly checks for division by zero and returns a helpful error message instead of crashing the program.\n",
      "    * **Invalid Operator:** The code checks if the `operator` is valid (`+`, `-`, `*`, `/`). If not, it returns an error message.  This prevents unexpected behavior.\n",
      "\n",
      "* **`if __name__ == \"__main__\":` block:**  This is a best practice in Python.  It ensures that the example usage code (the test cases) only runs when the script is executed directly (e.g., `python your_script.py`) and not when it's imported as a module into another script.\n",
      "\n",
      "* **f-strings:** The code uses f-strings (e.g., `f\"{num1} + {num2} = ...\"`), which are a more concise and readable way to format strings in Python.\n",
      "\n",
      "* **Float Input:**  The function is designed to take `float` inputs so that it can handle decimal numbers accurately.\n",
      "\n",
      "* **Returns Error Messages:**  The function returns *strings* to indicate errors.  This is generally better than raising exceptions for basic validation like this, because you can then handle the error more gracefully in the calling code (e.g., display the error message to the user).  If this were a more complex system, exceptions might be more appropriate.\n",
      "\n",
      "* **Comprehensive Example Usage:**  The example code demonstrates how to use the function and covers the error handling cases.\n",
      "\n",
      "**How to run the code:**\n",
      "\n",
      "1.  Save the code as a Python file (e.g., `calculator.py`).\n",
      "2.  Open a terminal or command prompt.\n",
      "3.  Navigate to the directory where you saved the file.\n",
      "4.  Run the script using `python calculator.py`.\n",
      "\n",
      "The output will be:\n",
      "\n",
      "```\n",
      "10 + 5 = 15\n",
      "10 - 5 = 5\n",
      "10 * 5 = 50\n",
      "10 / 5 = 2.0\n",
      "10 / 0 = Error: Division by zero\n",
      "10 % 5 = Error: Invalid operator.  Use '+', '-', '*', or '/'\n",
      "```\n",
      "\n"
     ]
    }
   ],
   "source": [
    "from google import genai\n",
    "from google.genai import types\n",
    "import os\n",
    "from dotenv import load_dotenv\n",
    "\n",
    "load_dotenv()\n",
    "gemini_key = os.getenv(\"GEMINI_API_KEY\")\n",
    "\n",
    "client = genai.Client(api_key=gemini_key)\n",
    "response = client.models.generate_content(\n",
    "    model=\"gemini-2.0-flash\", contents=\"print me python code for a that writes a function to do basic math operations\"\n",
    ")\n",
    "print(response.text)"
   ]
  },
  {
   "cell_type": "code",
   "execution_count": null,
   "metadata": {},
   "outputs": [
    {
     "name": "stdout",
     "output_type": "stream",
     "text": [
      "The character in the image is Ryomen Sukuna from the manga Jujutsu Kaisen.\n",
      "\n"
     ]
    }
   ],
   "source": [
    "import PIL.Image\n",
    "\n",
    "image = PIL.Image.open(r\"C:\\Users\\gavin\\OneDrive\\Pictures\\Screenshots\\Screenshot 2025-02-25 012520.png\")\n",
    "\n",
    "response = client.models.generate_content(\n",
    "    model=\"gemini-2.0-flash\",\n",
    "    contents=[\"identify the character in this image\", image])\n",
    "\n",
    "print(response.text)"
   ]
  },
  {
   "cell_type": "code",
   "execution_count": null,
   "metadata": {},
   "outputs": [
    {
     "name": "stdout",
     "output_type": "stream",
     "text": [
      "The image is a black and white illustration of a male character with a stylized, manga-like art style. The character is depicted from the mid-torso up, turned slightly to the side, with a confident or perhaps slightly menacing smirk.\n",
      "\n",
      "Here's a breakdown:\n",
      "\n",
      "*   **Character Appearance:** He has spiky, wild hair, and several prominent scars on his face and arms, giving him a rugged or battle-worn appearance. The lines on his arms suggest either bandages or additional scars. He wears a dark, short-sleeved shirt and lighter-colored pants or shorts.\n",
      "\n",
      "*   **Pose and Expression:** He is looking down and to the side with a smirk, creating an air of mystery or challenge. One hand is resting on his shoulder.\n",
      "\n",
      "*   **Style:** The art style is reminiscent of manga, with strong lines and shading.\n",
      "\n",
      "*   **Background:** The background is somewhat abstract with areas of light and dark that suggest motion, energy, or possibly a destructive environment. There are lines and splatters around the character that contribute to a sense of intensity.\n",
      "\n",
      "Overall, the image conveys a sense of strength, resilience, and possibly danger associated with the character.\n"
     ]
    }
   ],
   "source": [
    "import PIL.Image\n",
    "\n",
    "history = []\n",
    "\n",
    "image = PIL.Image.open(r\"C:\\Users\\gavin\\Downloads\\gojo_pfp.jpg\")\n",
    "\n",
    "response = client.models.generate_content(\n",
    "    model=\"gemini-2.0-flash\",\n",
    "    contents= history + [\"describe this image\", image])\n",
    "\n",
    "history.append(response.text)\n",
    "\n",
    "print(response.text)\n",
    "\n",
    "#conversational history isn't working yet"
   ]
  },
  {
   "cell_type": "code",
   "execution_count": 23,
   "metadata": {},
   "outputs": [
    {
     "name": "stdout",
     "output_type": "stream",
     "text": [
      "\n",
      "**Full Conversation History:**\n",
      "\n",
      "User: The image is a black and white illustration of a male character with a stylized, manga-like art style. The character is depicted from the mid-torso up, turned slightly to the side, with a confident or perhaps slightly menacing smirk.\n",
      "\n",
      "Here's a breakdown:\n",
      "\n",
      "*   **Character Appearance:** He has spiky, wild hair, and several prominent scars on his face and arms, giving him a rugged or battle-worn appearance. The lines on his arms suggest either bandages or additional scars. He wears a dark, short-sleeved shirt and lighter-colored pants or shorts.\n",
      "\n",
      "*   **Pose and Expression:** He is looking down and to the side with a smirk, creating an air of mystery or challenge. One hand is resting on his shoulder.\n",
      "\n",
      "*   **Style:** The art style is reminiscent of manga, with strong lines and shading.\n",
      "\n",
      "*   **Background:** The background is somewhat abstract with areas of light and dark that suggest motion, energy, or possibly a destructive environment. There are lines and splatters around the character that contribute to a sense of intensity.\n",
      "\n",
      "Overall, the image conveys a sense of strength, resilience, and possibly danger associated with the character.\n",
      "\n"
     ]
    }
   ],
   "source": [
    "def print_full_history():\n",
    "    print(\"\\n**Full Conversation History:**\\n\")\n",
    "    for i, entry in enumerate(history):\n",
    "        role = \"User\" if i % 2 == 0 else \"Gemini\"\n",
    "        print(f\"{role}: {entry}\\n\")\n",
    "\n",
    "print_full_history()"
   ]
  },
  {
   "cell_type": "code",
   "execution_count": null,
   "metadata": {},
   "outputs": [
    {
     "name": "stdout",
     "output_type": "stream",
     "text": [
      "Here's a description of the product based on the image:\n",
      "\n",
      "**Product:** The product is a Christian Dior Short-Sleeve Polo Shirt.\n",
      "\n",
      "**Condition:** Based on the image, the polo shirt appears to be in good or very good pre-owned condition. The colors are still vibrant, and there don't appear to be any major stains or damages visible. The fabric looks somewhat soft, which could indicate it has been washed and worn.\n",
      "\n",
      "**Additional Details:** The shirt has a green collar and features a pattern that includes orange, green, and brown horizontal stripes with geometric designs.\n",
      "\n"
     ]
    }
   ],
   "source": [
    "import PIL.Image\n",
    "\n",
    "image = PIL.Image.open(r\"C:\\Users\\gavin\\OneDrive\\Pictures\\Screenshots\\Screenshot 2025-03-04 002416.png\")\n",
    "\n",
    "response = client.models.generate_content(\n",
    "    model=\"gemini-2.0-flash\",\n",
    "    contents=[\"Describe the conditions of the product in the image and identify the exact name of the product\", image])\n",
    "\n",
    "print(response.text)"
   ]
  },
  {
   "cell_type": "code",
   "execution_count": null,
   "metadata": {},
   "outputs": [
    {
     "name": "stdout",
     "output_type": "stream",
     "text": [
      "Here's an analysis of the image:\n",
      "\n",
      "*   **Product Name:** Dawn Wings Necrozma GX\n",
      "\n",
      "*   **Product Condition:** Based on the image, the card appears to be in good to very good condition. There are no immediately obvious creases, bends, or major scratches. However, to make a truly accurate judgment, I would need to see the edges and corners more closely and examine the surface under good lighting for any fine scratches or wear. Overall it would be difficult to get a full feel for the condition without being able to hold it in your hand, but the card appears to be in solid shape.\n"
     ]
    }
   ],
   "source": [
    "import PIL.Image\n",
    "\n",
    "image = PIL.Image.open(r\"C:\\Users\\gavin\\OneDrive\\Pictures\\Screenshots\\Screenshot 2025-03-04 002738.png\")\n",
    "\n",
    "response = client.models.generate_content(\n",
    "    model=\"gemini-2.0-flash\",\n",
    "    contents=[\"Describe the conditions of the product in the image and identify the exact name of the product\", image])\n",
    "\n",
    "print(response.text)"
   ]
  },
  {
   "cell_type": "code",
   "execution_count": 3,
   "metadata": {},
   "outputs": [
    {
     "name": "stdout",
     "output_type": "stream",
     "text": [
      "Based on the information on the shirt, the specific name is likely the \"SVG Archives by Neighborhood T-shirt\".\n"
     ]
    }
   ],
   "source": [
    "from google import genai\n",
    "from google.genai import types\n",
    "import os\n",
    "from dotenv import load_dotenv\n",
    "\n",
    "load_dotenv()\n",
    "gemini_key = os.getenv(\"GEMINI_API_KEY\")\n",
    "\n",
    "client = genai.Client(api_key=gemini_key)\n",
    "\n",
    "import PIL.Image\n",
    "\n",
    "image = PIL.Image.open(r\"C:\\Users\\gavin\\Downloads\\s-l1200.jpg\")\n",
    "\n",
    "response = client.models.generate_content(\n",
    "    model=\"gemini-2.0-flash\",\n",
    "    contents=[\"what is the specific name of this piece of clothing?\", image])\n",
    "\n",
    "# how would you classify the condition of the shirt in this image? rank it from 1-10 from unusable to completely new\n",
    "\n",
    "print(response.text)"
   ]
  },
  {
   "cell_type": "code",
   "execution_count": 8,
   "metadata": {},
   "outputs": [
    {
     "name": "stdout",
     "output_type": "stream",
     "text": [
      "GenerateContentResponse(candidates=[Candidate(content=Content(parts=[Part(video_metadata=None, thought=None, code_execution_result=None, executable_code=None, file_data=None, function_call=None, function_response=None, inline_data=None, text=\"The price of a Uniqlo back t-shirt for men can vary depending on the specific style, material, and any ongoing sales or promotions. Here's a general idea of what you might expect to pay, based on the search results:\\n\\n*   **AIRism Cotton Oversized T-Shirt:** These can be found on sale for $9.90 (select colors/sizes only) or at the regular price of $14.90\\n\\nIt's always a good idea to check the Uniqlo website or visit a store for the most up-to-date pricing and availability.\\n\")], role='model'), citation_metadata=None, finish_message=None, token_count=None, avg_logprobs=None, finish_reason=<FinishReason.STOP: 'STOP'>, grounding_metadata=GroundingMetadata(grounding_chunks=[GroundingChunk(retrieved_context=None, web=GroundingChunkWeb(title='uniqlo.com', uri='https://vertexaisearch.cloud.google.com/grounding-api-redirect/AQXblryQJXuc-i8l2O6kZFFvg0PZtHsAAJAHUVA1OjusWkz0_xPZ5ViKI6YWut8nMSQDqhOOaTUc6cS6Ng1hiGURF2M6zQTF3mtIuvDaysDo8lZKKcYSxCe5ft5IpMLEF-Z3IaiMZSGogrWAZ_k='))], grounding_supports=[GroundingSupport(confidence_scores=[0.7179132], grounding_chunk_indices=[0], segment=Segment(end_index=355, part_index=None, start_index=217, text='*   **AIRism Cotton Oversized T-Shirt:** These can be found on sale for $9.90 (select colors/sizes only) or at the regular price of $14.90'))], retrieval_metadata=RetrievalMetadata(google_search_dynamic_retrieval_score=None), retrieval_queries=None, search_entry_point=SearchEntryPoint(rendered_content='<style>\\n.container {\\n  align-items: center;\\n  border-radius: 8px;\\n  display: flex;\\n  font-family: Google Sans, Roboto, sans-serif;\\n  font-size: 14px;\\n  line-height: 20px;\\n  padding: 8px 12px;\\n}\\n.chip {\\n  display: inline-block;\\n  border: solid 1px;\\n  border-radius: 16px;\\n  min-width: 14px;\\n  padding: 5px 16px;\\n  text-align: center;\\n  user-select: none;\\n  margin: 0 8px;\\n  -webkit-tap-highlight-color: transparent;\\n}\\n.carousel {\\n  overflow: auto;\\n  scrollbar-width: none;\\n  white-space: nowrap;\\n  margin-right: -12px;\\n}\\n.headline {\\n  display: flex;\\n  margin-right: 4px;\\n}\\n.gradient-container {\\n  position: relative;\\n}\\n.gradient {\\n  position: absolute;\\n  transform: translate(3px, -9px);\\n  height: 36px;\\n  width: 9px;\\n}\\n@media (prefers-color-scheme: light) {\\n  .container {\\n    background-color: #fafafa;\\n    box-shadow: 0 0 0 1px #0000000f;\\n  }\\n  .headline-label {\\n    color: #1f1f1f;\\n  }\\n  .chip {\\n    background-color: #ffffff;\\n    border-color: #d2d2d2;\\n    color: #5e5e5e;\\n    text-decoration: none;\\n  }\\n  .chip:hover {\\n    background-color: #f2f2f2;\\n  }\\n  .chip:focus {\\n    background-color: #f2f2f2;\\n  }\\n  .chip:active {\\n    background-color: #d8d8d8;\\n    border-color: #b6b6b6;\\n  }\\n  .logo-dark {\\n    display: none;\\n  }\\n  .gradient {\\n    background: linear-gradient(90deg, #fafafa 15%, #fafafa00 100%);\\n  }\\n}\\n@media (prefers-color-scheme: dark) {\\n  .container {\\n    background-color: #1f1f1f;\\n    box-shadow: 0 0 0 1px #ffffff26;\\n  }\\n  .headline-label {\\n    color: #fff;\\n  }\\n  .chip {\\n    background-color: #2c2c2c;\\n    border-color: #3c4043;\\n    color: #fff;\\n    text-decoration: none;\\n  }\\n  .chip:hover {\\n    background-color: #353536;\\n  }\\n  .chip:focus {\\n    background-color: #353536;\\n  }\\n  .chip:active {\\n    background-color: #464849;\\n    border-color: #53575b;\\n  }\\n  .logo-light {\\n    display: none;\\n  }\\n  .gradient {\\n    background: linear-gradient(90deg, #1f1f1f 15%, #1f1f1f00 100%);\\n  }\\n}\\n</style>\\n<div class=\"container\">\\n  <div class=\"headline\">\\n    <svg class=\"logo-light\" width=\"18\" height=\"18\" viewBox=\"9 9 35 35\" fill=\"none\" xmlns=\"http://www.w3.org/2000/svg\">\\n      <path fill-rule=\"evenodd\" clip-rule=\"evenodd\" d=\"M42.8622 27.0064C42.8622 25.7839 42.7525 24.6084 42.5487 23.4799H26.3109V30.1568H35.5897C35.1821 32.3041 33.9596 34.1222 32.1258 35.3448V39.6864H37.7213C40.9814 36.677 42.8622 32.2571 42.8622 27.0064V27.0064Z\" fill=\"#4285F4\"/>\\n      <path fill-rule=\"evenodd\" clip-rule=\"evenodd\" d=\"M26.3109 43.8555C30.9659 43.8555 34.8687 42.3195 37.7213 39.6863L32.1258 35.3447C30.5898 36.3792 28.6306 37.0061 26.3109 37.0061C21.8282 37.0061 18.0195 33.9811 16.6559 29.906H10.9194V34.3573C13.7563 39.9841 19.5712 43.8555 26.3109 43.8555V43.8555Z\" fill=\"#34A853\"/>\\n      <path fill-rule=\"evenodd\" clip-rule=\"evenodd\" d=\"M16.6559 29.8904C16.3111 28.8559 16.1074 27.7588 16.1074 26.6146C16.1074 25.4704 16.3111 24.3733 16.6559 23.3388V18.8875H10.9194C9.74388 21.2072 9.06992 23.8247 9.06992 26.6146C9.06992 29.4045 9.74388 32.022 10.9194 34.3417L15.3864 30.8621L16.6559 29.8904V29.8904Z\" fill=\"#FBBC05\"/>\\n      <path fill-rule=\"evenodd\" clip-rule=\"evenodd\" d=\"M26.3109 16.2386C28.85 16.2386 31.107 17.1164 32.9095 18.8091L37.8466 13.8719C34.853 11.082 30.9659 9.3736 26.3109 9.3736C19.5712 9.3736 13.7563 13.245 10.9194 18.8875L16.6559 23.3388C18.0195 19.2636 21.8282 16.2386 26.3109 16.2386V16.2386Z\" fill=\"#EA4335\"/>\\n    </svg>\\n    <svg class=\"logo-dark\" width=\"18\" height=\"18\" viewBox=\"0 0 48 48\" xmlns=\"http://www.w3.org/2000/svg\">\\n      <circle cx=\"24\" cy=\"23\" fill=\"#FFF\" r=\"22\"/>\\n      <path d=\"M33.76 34.26c2.75-2.56 4.49-6.37 4.49-11.26 0-.89-.08-1.84-.29-3H24.01v5.99h8.03c-.4 2.02-1.5 3.56-3.07 4.56v.75l3.91 2.97h.88z\" fill=\"#4285F4\"/>\\n      <path d=\"M15.58 25.77A8.845 8.845 0 0 0 24 31.86c1.92 0 3.62-.46 4.97-1.31l4.79 3.71C31.14 36.7 27.65 38 24 38c-5.93 0-11.01-3.4-13.45-8.36l.17-1.01 4.06-2.85h.8z\" fill=\"#34A853\"/>\\n      <path d=\"M15.59 20.21a8.864 8.864 0 0 0 0 5.58l-5.03 3.86c-.98-2-1.53-4.25-1.53-6.64 0-2.39.55-4.64 1.53-6.64l1-.22 3.81 2.98.22 1.08z\" fill=\"#FBBC05\"/>\\n      <path d=\"M24 14.14c2.11 0 4.02.75 5.52 1.98l4.36-4.36C31.22 9.43 27.81 8 24 8c-5.93 0-11.01 3.4-13.45 8.36l5.03 3.85A8.86 8.86 0 0 1 24 14.14z\" fill=\"#EA4335\"/>\\n    </svg>\\n    <div class=\"gradient-container\"><div class=\"gradient\"></div></div>\\n  </div>\\n  <div class=\"carousel\">\\n    <a class=\"chip\" href=\"https://vertexaisearch.cloud.google.com/grounding-api-redirect/AQXblrzDIlishnOrUt_IPqVEmNIjT3VoYRdjEU8scdApifJLs-ZdlwH2zkYucOdWLhwS0GYbDotYr52bBrqHdQA44KwGDDxkV0Sphbj5G5JFkepaAEqU0aJ9IJ9tXzIYBrWWD_4JxwLQa-aaeBabCIImUhRhTCnW47kSc6IMcPdETzZsvgoc26mcHW5czp1oYAwi_iVqQe6j4TlTGwMedZAZAbSj\">uniqlo back t shirt men price</a>\\n  </div>\\n</div>\\n', sdk_blob=None), web_search_queries=['uniqlo back t shirt men price']), index=None, logprobs_result=None, safety_ratings=None)], model_version='gemini-2.0-flash', prompt_feedback=None, usage_metadata=GenerateContentResponseUsageMetadata(cached_content_token_count=None, candidates_token_count=126, prompt_token_count=12, total_token_count=138), automatic_function_calling_history=[], parsed=None)\n"
     ]
    }
   ],
   "source": [
    "from google import genai\n",
    "from google.genai import types\n",
    "\n",
    "client = genai.Client(api_key=gemini_key)\n",
    "\n",
    "response = client.models.generate_content(\n",
    "    model='gemini-2.0-flash',\n",
    "    contents=\"Search up how much the uniqlo back t shirt costs for men\",\n",
    "    config=types.GenerateContentConfig(\n",
    "        tools=[types.Tool(\n",
    "            google_search=types.GoogleSearchRetrieval\n",
    "        )]\n",
    "    )\n",
    ")\n",
    "\n",
    "from pprint import pprint\n",
    "\n",
    "pprint(response)\n"
   ]
  },
  {
   "cell_type": "code",
   "execution_count": null,
   "metadata": {},
   "outputs": [
    {
     "ename": "TypeError",
     "evalue": "string indices must be integers",
     "output_type": "error",
     "traceback": [
      "\u001b[1;31m---------------------------------------------------------------------------\u001b[0m\n",
      "\u001b[1;31mTypeError\u001b[0m                                 Traceback (most recent call last)\n",
      "Cell \u001b[1;32mIn[16], line 32\u001b[0m\n",
      "\u001b[0;32m     29\u001b[0m data \u001b[38;5;241m=\u001b[39m response\u001b[38;5;241m.\u001b[39mjson()\n",
      "\u001b[0;32m     31\u001b[0m \u001b[38;5;66;03m# Extract route coordinates (convert ORS format from [lon, lat] to [lat, lon])\u001b[39;00m\n",
      "\u001b[1;32m---> 32\u001b[0m route_coords \u001b[38;5;241m=\u001b[39m [(lat, lon) \u001b[38;5;28;01mfor\u001b[39;00m lon, lat \u001b[38;5;129;01min\u001b[39;00m \u001b[43mdata\u001b[49m\u001b[43m[\u001b[49m\u001b[38;5;124;43m\"\u001b[39;49m\u001b[38;5;124;43mroutes\u001b[39;49m\u001b[38;5;124;43m\"\u001b[39;49m\u001b[43m]\u001b[49m\u001b[43m[\u001b[49m\u001b[38;5;241;43m0\u001b[39;49m\u001b[43m]\u001b[49m\u001b[43m[\u001b[49m\u001b[38;5;124;43m\"\u001b[39;49m\u001b[38;5;124;43mgeometry\u001b[39;49m\u001b[38;5;124;43m\"\u001b[39;49m\u001b[43m]\u001b[49m\u001b[43m[\u001b[49m\u001b[38;5;124;43m\"\u001b[39;49m\u001b[38;5;124;43mcoordinates\u001b[39;49m\u001b[38;5;124;43m\"\u001b[39;49m\u001b[43m]\u001b[49m]\n",
      "\u001b[0;32m     34\u001b[0m \u001b[38;5;66;03m# Create a Folium map centered at the start location\u001b[39;00m\n",
      "\u001b[0;32m     35\u001b[0m m \u001b[38;5;241m=\u001b[39m folium\u001b[38;5;241m.\u001b[39mMap(location\u001b[38;5;241m=\u001b[39m[start_coords[\u001b[38;5;241m1\u001b[39m], start_coords[\u001b[38;5;241m0\u001b[39m]], zoom_start\u001b[38;5;241m=\u001b[39m\u001b[38;5;241m14\u001b[39m)\n",
      "\n",
      "\u001b[1;31mTypeError\u001b[0m: string indices must be integers"
     ]
    }
   ],
   "source": [
    "# import requests\n",
    "# import folium\n",
    "# import os\n",
    "# import json\n",
    "# from dotenv import load_dotenv\n",
    "\n",
    "# # Load API Key from .env file\n",
    "# load_dotenv()\n",
    "# ors_key = os.getenv(\"OPENROUTESERVICE_API_KEY\")\n",
    "\n",
    "# # Correct coordinates format (longitude, latitude)\n",
    "# start_coords = [-79.3957, 43.6629]  # UofT\n",
    "# end_coords = [-79.3806, 43.6544]    # Eaton Centre\n",
    "\n",
    "# # OpenRouteService API Request\n",
    "# body = {\n",
    "#     \"coordinates\": [start_coords, end_coords],\n",
    "#     \"units\": \"m\"\n",
    "# }\n",
    "\n",
    "# headers = {\n",
    "#     'Authorization': ors_key,\n",
    "#     'Content-Type': 'application/json; charset=utf-8'\n",
    "# }\n",
    "\n",
    "# response = requests.post('https://api.openrouteservice.org/v2/directions/driving-car', json=body, headers=headers)\n",
    "\n",
    "# if response.status_code == 200:\n",
    "#     data = response.json()\n",
    "    \n",
    "#     # Extract route coordinates (convert ORS format from [lon, lat] to [lat, lon])\n",
    "#     route_coords = [(lat, lon) for lon, lat in data[\"routes\"][0][\"geometry\"][\"coordinates\"]]\n",
    "\n",
    "#     # Create a Folium map centered at the start location\n",
    "#     m = folium.Map(location=[start_coords[1], start_coords[0]], zoom_start=14)\n",
    "\n",
    "#     # Add route polyline to map\n",
    "#     folium.PolyLine(route_coords, color=\"blue\", weight=5, opacity=0.7).add_to(m)\n",
    "\n",
    "#     # Add start and end markers\n",
    "#     folium.Marker(route_coords[0], popup=\"University of Toronto\", icon=folium.Icon(color=\"green\")).add_to(m)\n",
    "#     folium.Marker(route_coords[-1], popup=\"Eaton Centre\", icon=folium.Icon(color=\"red\")).add_to(m)\n",
    "\n",
    "#     # Save map as an HTML file\n",
    "#     m.save(\"route_map.html\")\n",
    "#     print(\"Map saved as route_map.html. Open this file in your browser.\")\n",
    "# else:\n",
    "#     print(f\"Error: {response.status_code} - {response.text}\")\n"
   ]
  }
 ],
 "metadata": {
  "kernelspec": {
   "display_name": "aihackathon_2",
   "language": "python",
   "name": "python3"
  },
  "language_info": {
   "codemirror_mode": {
    "name": "ipython",
    "version": 3
   },
   "file_extension": ".py",
   "mimetype": "text/x-python",
   "name": "python",
   "nbconvert_exporter": "python",
   "pygments_lexer": "ipython3",
   "version": "3.9.21"
  }
 },
 "nbformat": 4,
 "nbformat_minor": 2
}
