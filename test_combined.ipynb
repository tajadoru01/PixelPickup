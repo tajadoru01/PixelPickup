{
 "cells": [
  {
   "cell_type": "markdown",
   "metadata": {},
   "source": [
    "**User input categories**\n",
    "* Product\n",
    "* Return reason\n",
    "* Brand\n",
    "* Timeline\n",
    "* Claimed item condition"
   ]
  },
  {
   "cell_type": "code",
   "execution_count": 1,
   "metadata": {},
   "outputs": [],
   "source": [
    "# For this demonstration, I will go ahead and make up answers for each of the user input categories to show proof-of-concept\n",
    "\n",
    "product  = \"topwear\"\n",
    "return_reason = \"defective\"\n",
    "brand = \"uniqlo\"\n",
    "timeline = \"within 30 days\"\n",
    "item_condition = \"gently used\""
   ]
  },
  {
   "cell_type": "markdown",
   "metadata": {},
   "source": [
    "Allow the user to upload multiple images. \n",
    "\n",
    "Prompt engineer Gemini to return 1 of 3 final categories: **Return to store, donate, recycle**"
   ]
  },
  {
   "cell_type": "code",
   "execution_count": 2,
   "metadata": {},
   "outputs": [
    {
     "data": {
      "application/vnd.jupyter.widget-view+json": {
       "model_id": "804f6370113642079af006351e0f450a",
       "version_major": 2,
       "version_minor": 0
      },
      "text/plain": [
       "FileUpload(value=(), accept='image/*', description='Upload', multiple=True)"
      ]
     },
     "metadata": {},
     "output_type": "display_data"
    }
   ],
   "source": [
    "from IPython.display import display\n",
    "from ipywidgets import FileUpload\n",
    "from PIL import Image\n",
    "import io\n",
    "\n",
    "upload_widget = FileUpload(accept='image/*', multiple=True)\n",
    "display(upload_widget)\n",
    "\n",
    "uploaded_images = {}\n",
    "\n",
    "def handle_upload(change):\n",
    "    global uploaded_images\n",
    "    uploaded_images.clear()  # Reset previous uploads\n",
    "    for fileinfo in upload_widget.value:\n",
    "        filename = fileinfo[\"name\"]\n",
    "        image_data = fileinfo[\"content\"]\n",
    "        image = Image.open(io.BytesIO(image_data))\n",
    "        uploaded_images[filename] = image\n",
    "        display(image)\n",
    "\n",
    "upload_widget.observe(handle_upload, names='value')\n"
   ]
  },
  {
   "cell_type": "code",
   "execution_count": 10,
   "metadata": {},
   "outputs": [
    {
     "name": "stdout",
     "output_type": "stream",
     "text": [
      "Based on the image provided, here is the assessment of the product:\n",
      "\n",
      "*   **Return to Store:**\n",
      "\n",
      "    The shirt appears heavily creased/wrinkled throughout the front and back. While it's hard to confirm the defect without seeing it, the overall condition suggests the shirt is not in resalable condition. Given that it was purchased within 30 days and has been gently used, the customer is eligible for a refund if they have proof of purchase.\n",
      "1\n",
      "\n"
     ]
    }
   ],
   "source": [
    "from google import genai\n",
    "from google.genai import types\n",
    "import io\n",
    "import os\n",
    "from dotenv import load_dotenv\n",
    "\n",
    "load_dotenv()\n",
    "gemini_key = os.getenv(\"GEMINI_API_KEY\")\n",
    "\n",
    "if not uploaded_images:\n",
    "    raise ValueError(\"No images uploaded yet. Please upload images first.\")\n",
    "\n",
    "# Convert the images into the correct format (types.Part)\n",
    "gemini_images = []\n",
    "\n",
    "for filename, pil_image in uploaded_images.items():\n",
    "    # If the image has an alpha channel (RGBA), convert it to RGB\n",
    "    if pil_image.mode == \"RGBA\":\n",
    "        pil_image = pil_image.convert(\"RGB\")\n",
    "    \n",
    "    img_bytes_io = io.BytesIO()\n",
    "    \n",
    "    # Convert the PIL Image to a byte stream (JPEG or PNG)\n",
    "    pil_image.save(img_bytes_io, format=\"JPEG\")  \n",
    "    img_bytes_io.seek(0)  \n",
    "    \n",
    "    # Convert to types.Part for Gemini\n",
    "    gemini_images.append(\n",
    "        types.Part.from_bytes(\n",
    "            data=img_bytes_io.getvalue(),  # Get the byte data from the BytesIO object\n",
    "            mime_type=\"image/jpeg\"  # Use \"image/png\" if your images are in PNG format\n",
    "        )\n",
    "    )\n",
    "\n",
    "client = genai.Client(api_key=gemini_key)\n",
    "response = client.models.generate_content(\n",
    "    model=\"gemini-2.0-flash-exp\",\n",
    "    contents=[f\"\"\"\n",
    "    Your job is to assess the product condition based on the images provided into 3 categories: 1. Return to store; 2: Recycle; 3: Donate. The customer wants to return a {product} from {brand} because it is {return_reason}. \n",
    "    The item is {item_condition} and they purchased it {timeline}. Categorize them and if the images are ambiguous, say so.\n",
    "    \"\"\"] + gemini_images\n",
    ")\n",
    "\n",
    "# the issue here is that we haven't defined (ourselves) what the criteria is for return to store, recycle, donate\n",
    "\n",
    "print(response.text)\n",
    "\n",
    "response_numeric = client.models.generate_content(\n",
    "    model=\"gemini-2.0-flash-exp\",\n",
    "    contents=[f\"\"\"\n",
    "    Your job is to assess the product condition based on the images provided into 3 categories: 1. Return to store; 2: Recycle; 3: Donate. The customer wants to return a {product} from {brand} because it is {return_reason}. \n",
    "    The item is {item_condition} and they purchased it {timeline}. ONLY output the number for the category. If it is ambiguous, output 4.\n",
    "    \"\"\"] + gemini_images\n",
    ")\n",
    "\n",
    "print(response_numeric.text)"
   ]
  }
 ],
 "metadata": {
  "kernelspec": {
   "display_name": "Python 3 (ipykernel)",
   "language": "python",
   "name": "python3"
  },
  "language_info": {
   "codemirror_mode": {
    "name": "ipython",
    "version": 3
   },
   "file_extension": ".py",
   "mimetype": "text/x-python",
   "name": "python",
   "nbconvert_exporter": "python",
   "pygments_lexer": "ipython3",
   "version": "3.9.21"
  }
 },
 "nbformat": 4,
 "nbformat_minor": 4
}
